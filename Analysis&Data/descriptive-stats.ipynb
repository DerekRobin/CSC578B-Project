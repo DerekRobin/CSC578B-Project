{
 "cells": [
  {
   "cell_type": "code",
   "execution_count": 2,
   "metadata": {},
   "outputs": [],
   "source": [
    "import pandas as pd"
   ]
  },
  {
   "cell_type": "code",
   "execution_count": 3,
   "metadata": {},
   "outputs": [
    {
     "data": {
      "text/html": [
       "<div>\n",
       "<style scoped>\n",
       "    .dataframe tbody tr th:only-of-type {\n",
       "        vertical-align: middle;\n",
       "    }\n",
       "\n",
       "    .dataframe tbody tr th {\n",
       "        vertical-align: top;\n",
       "    }\n",
       "\n",
       "    .dataframe thead th {\n",
       "        text-align: right;\n",
       "    }\n",
       "</style>\n",
       "<table border=\"1\" class=\"dataframe\">\n",
       "  <thead>\n",
       "    <tr style=\"text-align: right;\">\n",
       "      <th></th>\n",
       "      <th>Unnamed: 0</th>\n",
       "      <th>url</th>\n",
       "      <th>host_type</th>\n",
       "      <th>major_releases</th>\n",
       "      <th>duration</th>\n",
       "      <th>author_count</th>\n",
       "      <th>rev_count</th>\n",
       "      <th>status</th>\n",
       "      <th>project</th>\n",
       "      <th>multi_repo</th>\n",
       "      <th>commits_per_day</th>\n",
       "      <th>commit_freq_above_median</th>\n",
       "    </tr>\n",
       "  </thead>\n",
       "  <tbody>\n",
       "    <tr>\n",
       "      <th>0</th>\n",
       "      <td>0</td>\n",
       "      <td>deb://Debian/packages/accerciser</td>\n",
       "      <td>deb</td>\n",
       "      <td>0.0</td>\n",
       "      <td>73.0</td>\n",
       "      <td>4.0</td>\n",
       "      <td>1192.0</td>\n",
       "      <td>0.0</td>\n",
       "      <td>accerciser</td>\n",
       "      <td>0</td>\n",
       "      <td>0.577240</td>\n",
       "      <td>False</td>\n",
       "    </tr>\n",
       "    <tr>\n",
       "      <th>1</th>\n",
       "      <td>1</td>\n",
       "      <td>deb://Debian/packages/agtl</td>\n",
       "      <td>deb</td>\n",
       "      <td>0.0</td>\n",
       "      <td>59.0</td>\n",
       "      <td>2.0</td>\n",
       "      <td>1147.0</td>\n",
       "      <td>1.0</td>\n",
       "      <td>agtl</td>\n",
       "      <td>0</td>\n",
       "      <td>0.686415</td>\n",
       "      <td>True</td>\n",
       "    </tr>\n",
       "    <tr>\n",
       "      <th>2</th>\n",
       "      <td>2</td>\n",
       "      <td>deb://Debian/packages/ajaxterm</td>\n",
       "      <td>deb</td>\n",
       "      <td>0.0</td>\n",
       "      <td>49.0</td>\n",
       "      <td>2.0</td>\n",
       "      <td>1248.0</td>\n",
       "      <td>1.0</td>\n",
       "      <td>ajaxterm</td>\n",
       "      <td>0</td>\n",
       "      <td>0.903039</td>\n",
       "      <td>True</td>\n",
       "    </tr>\n",
       "    <tr>\n",
       "      <th>3</th>\n",
       "      <td>3</td>\n",
       "      <td>deb://Debian/packages/alacarte</td>\n",
       "      <td>deb</td>\n",
       "      <td>0.0</td>\n",
       "      <td>71.0</td>\n",
       "      <td>3.0</td>\n",
       "      <td>1242.0</td>\n",
       "      <td>0.0</td>\n",
       "      <td>alacarte</td>\n",
       "      <td>0</td>\n",
       "      <td>0.621311</td>\n",
       "      <td>False</td>\n",
       "    </tr>\n",
       "    <tr>\n",
       "      <th>4</th>\n",
       "      <td>4</td>\n",
       "      <td>deb://Debian/packages/angrydd</td>\n",
       "      <td>deb</td>\n",
       "      <td>0.0</td>\n",
       "      <td>98.0</td>\n",
       "      <td>3.0</td>\n",
       "      <td>1254.0</td>\n",
       "      <td>1.0</td>\n",
       "      <td>angrydd</td>\n",
       "      <td>0</td>\n",
       "      <td>0.456831</td>\n",
       "      <td>False</td>\n",
       "    </tr>\n",
       "    <tr>\n",
       "      <th>...</th>\n",
       "      <td>...</td>\n",
       "      <td>...</td>\n",
       "      <td>...</td>\n",
       "      <td>...</td>\n",
       "      <td>...</td>\n",
       "      <td>...</td>\n",
       "      <td>...</td>\n",
       "      <td>...</td>\n",
       "      <td>...</td>\n",
       "      <td>...</td>\n",
       "      <td>...</td>\n",
       "      <td>...</td>\n",
       "    </tr>\n",
       "    <tr>\n",
       "      <th>2061</th>\n",
       "      <td>2080</td>\n",
       "      <td>https://pypi.org/project/youtube_dl/</td>\n",
       "      <td>pypi</td>\n",
       "      <td>0.0</td>\n",
       "      <td>64.0</td>\n",
       "      <td>2.0</td>\n",
       "      <td>794.0</td>\n",
       "      <td>0.0</td>\n",
       "      <td>youtube_dl</td>\n",
       "      <td>0</td>\n",
       "      <td>NaN</td>\n",
       "      <td>False</td>\n",
       "    </tr>\n",
       "    <tr>\n",
       "      <th>2062</th>\n",
       "      <td>2081</td>\n",
       "      <td>https://pypi.org/project/zc.lockfile/</td>\n",
       "      <td>pypi</td>\n",
       "      <td>0.0</td>\n",
       "      <td>116.0</td>\n",
       "      <td>2.0</td>\n",
       "      <td>7.0</td>\n",
       "      <td>0.0</td>\n",
       "      <td>zc.lockfile</td>\n",
       "      <td>0</td>\n",
       "      <td>NaN</td>\n",
       "      <td>False</td>\n",
       "    </tr>\n",
       "    <tr>\n",
       "      <th>2063</th>\n",
       "      <td>2082</td>\n",
       "      <td>https://pypi.org/project/zope.component/</td>\n",
       "      <td>pypi</td>\n",
       "      <td>0.0</td>\n",
       "      <td>138.0</td>\n",
       "      <td>3.0</td>\n",
       "      <td>31.0</td>\n",
       "      <td>1.0</td>\n",
       "      <td>zope.component</td>\n",
       "      <td>0</td>\n",
       "      <td>NaN</td>\n",
       "      <td>False</td>\n",
       "    </tr>\n",
       "    <tr>\n",
       "      <th>2064</th>\n",
       "      <td>2083</td>\n",
       "      <td>https://pypi.org/project/zope.deprecation/</td>\n",
       "      <td>pypi</td>\n",
       "      <td>0.0</td>\n",
       "      <td>136.0</td>\n",
       "      <td>2.0</td>\n",
       "      <td>13.0</td>\n",
       "      <td>1.0</td>\n",
       "      <td>zope.deprecation</td>\n",
       "      <td>0</td>\n",
       "      <td>NaN</td>\n",
       "      <td>False</td>\n",
       "    </tr>\n",
       "    <tr>\n",
       "      <th>2065</th>\n",
       "      <td>2084</td>\n",
       "      <td>https://pypi.org/project/zope.interface/</td>\n",
       "      <td>pypi</td>\n",
       "      <td>0.0</td>\n",
       "      <td>139.0</td>\n",
       "      <td>3.0</td>\n",
       "      <td>41.0</td>\n",
       "      <td>0.0</td>\n",
       "      <td>zope.interface</td>\n",
       "      <td>0</td>\n",
       "      <td>NaN</td>\n",
       "      <td>False</td>\n",
       "    </tr>\n",
       "  </tbody>\n",
       "</table>\n",
       "<p>2066 rows × 12 columns</p>\n",
       "</div>"
      ],
      "text/plain": [
       "      Unnamed: 0                                         url host_type  \\\n",
       "0              0            deb://Debian/packages/accerciser       deb   \n",
       "1              1                  deb://Debian/packages/agtl       deb   \n",
       "2              2              deb://Debian/packages/ajaxterm       deb   \n",
       "3              3              deb://Debian/packages/alacarte       deb   \n",
       "4              4               deb://Debian/packages/angrydd       deb   \n",
       "...          ...                                         ...       ...   \n",
       "2061        2080        https://pypi.org/project/youtube_dl/      pypi   \n",
       "2062        2081       https://pypi.org/project/zc.lockfile/      pypi   \n",
       "2063        2082    https://pypi.org/project/zope.component/      pypi   \n",
       "2064        2083  https://pypi.org/project/zope.deprecation/      pypi   \n",
       "2065        2084    https://pypi.org/project/zope.interface/      pypi   \n",
       "\n",
       "      major_releases  duration  author_count  rev_count  status  \\\n",
       "0                0.0      73.0           4.0     1192.0     0.0   \n",
       "1                0.0      59.0           2.0     1147.0     1.0   \n",
       "2                0.0      49.0           2.0     1248.0     1.0   \n",
       "3                0.0      71.0           3.0     1242.0     0.0   \n",
       "4                0.0      98.0           3.0     1254.0     1.0   \n",
       "...              ...       ...           ...        ...     ...   \n",
       "2061             0.0      64.0           2.0      794.0     0.0   \n",
       "2062             0.0     116.0           2.0        7.0     0.0   \n",
       "2063             0.0     138.0           3.0       31.0     1.0   \n",
       "2064             0.0     136.0           2.0       13.0     1.0   \n",
       "2065             0.0     139.0           3.0       41.0     0.0   \n",
       "\n",
       "               project  multi_repo  commits_per_day  commit_freq_above_median  \n",
       "0           accerciser           0         0.577240                     False  \n",
       "1                 agtl           0         0.686415                      True  \n",
       "2             ajaxterm           0         0.903039                      True  \n",
       "3             alacarte           0         0.621311                     False  \n",
       "4              angrydd           0         0.456831                     False  \n",
       "...                ...         ...              ...                       ...  \n",
       "2061        youtube_dl           0              NaN                     False  \n",
       "2062       zc.lockfile           0              NaN                     False  \n",
       "2063    zope.component           0              NaN                     False  \n",
       "2064  zope.deprecation           0              NaN                     False  \n",
       "2065    zope.interface           0              NaN                     False  \n",
       "\n",
       "[2066 rows x 12 columns]"
      ]
     },
     "execution_count": 3,
     "metadata": {},
     "output_type": "execute_result"
    }
   ],
   "source": [
    "data = pd.read_csv('data.csv')\n",
    "data"
   ]
  },
  {
   "cell_type": "markdown",
   "metadata": {},
   "source": [
    "The number of active and inactive projects"
   ]
  },
  {
   "cell_type": "code",
   "execution_count": 10,
   "metadata": {},
   "outputs": [
    {
     "data": {
      "text/plain": [
       "1422"
      ]
     },
     "metadata": {},
     "output_type": "display_data"
    },
    {
     "data": {
      "text/plain": [
       "644"
      ]
     },
     "metadata": {},
     "output_type": "display_data"
    }
   ],
   "source": [
    "display(len(data.query('status == 0')), # active\n",
    "        len(data.query('status == 1'))) # inactive"
   ]
  },
  {
   "cell_type": "markdown",
   "metadata": {},
   "source": [
    "The mean duration of projects in months"
   ]
  },
  {
   "cell_type": "code",
   "execution_count": 11,
   "metadata": {},
   "outputs": [
    {
     "data": {
      "text/plain": [
       "46.54840271055179"
      ]
     },
     "metadata": {},
     "output_type": "display_data"
    }
   ],
   "source": [
    "display(data.duration.mean())"
   ]
  },
  {
   "cell_type": "markdown",
   "metadata": {},
   "source": [
    "The number of projects on each VCS"
   ]
  },
  {
   "cell_type": "code",
   "execution_count": 19,
   "metadata": {},
   "outputs": [
    {
     "data": {
      "text/plain": [
       "964"
      ]
     },
     "metadata": {},
     "output_type": "display_data"
    },
    {
     "data": {
      "text/plain": [
       "739"
      ]
     },
     "metadata": {},
     "output_type": "display_data"
    },
    {
     "data": {
      "text/plain": [
       "363"
      ]
     },
     "metadata": {},
     "output_type": "display_data"
    }
   ],
   "source": [
    "debian = 'deb'\n",
    "github_gitlab = 'git'\n",
    "pypi = 'pypi'\n",
    "display(len(data.query('host_type == @debian')),\n",
    "        len(data.query('host_type == @github_gitlab')),\n",
    "        len(data.query('host_type == @pypi')))"
   ]
  },
  {
   "cell_type": "markdown",
   "metadata": {},
   "source": [
    "The number of projects which are hosted on multiple repositories"
   ]
  },
  {
   "cell_type": "code",
   "execution_count": 20,
   "metadata": {},
   "outputs": [
    {
     "data": {
      "text/plain": [
       "111"
      ]
     },
     "metadata": {},
     "output_type": "display_data"
    }
   ],
   "source": [
    "display(len(data.query('multi_repo == 1')))"
   ]
  },
  {
   "cell_type": "markdown",
   "metadata": {},
   "source": [
    "The number of projects which have major releases"
   ]
  },
  {
   "cell_type": "code",
   "execution_count": 21,
   "metadata": {},
   "outputs": [
    {
     "data": {
      "text/plain": [
       "53"
      ]
     },
     "metadata": {},
     "output_type": "display_data"
    }
   ],
   "source": [
    "display(len(data.query('major_releases == 1')))"
   ]
  },
  {
   "cell_type": "markdown",
   "metadata": {},
   "source": [
    "The mean number of authors per project"
   ]
  },
  {
   "cell_type": "code",
   "execution_count": 23,
   "metadata": {},
   "outputs": [
    {
     "data": {
      "text/plain": [
       "46.51645692158761"
      ]
     },
     "metadata": {},
     "output_type": "display_data"
    }
   ],
   "source": [
    "display(data.author_count.mean())"
   ]
  }
 ],
 "metadata": {
  "interpreter": {
   "hash": "31f2aee4e71d21fbe5cf8b01ff0e069b9275f58929596ceb00d14d90e3e16cd6"
  },
  "kernelspec": {
   "display_name": "Python 3.8.2 64-bit",
   "language": "python",
   "name": "python3"
  },
  "language_info": {
   "codemirror_mode": {
    "name": "ipython",
    "version": 3
   },
   "file_extension": ".py",
   "mimetype": "text/x-python",
   "name": "python",
   "nbconvert_exporter": "python",
   "pygments_lexer": "ipython3",
   "version": "3.7.10"
  },
  "orig_nbformat": 4
 },
 "nbformat": 4,
 "nbformat_minor": 2
}
