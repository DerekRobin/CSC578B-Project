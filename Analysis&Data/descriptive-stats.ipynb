{
 "cells": [
  {
   "cell_type": "code",
   "execution_count": 1,
   "metadata": {},
   "outputs": [],
   "source": [
    "import pandas as pd"
   ]
  },
  {
   "cell_type": "code",
   "execution_count": 3,
   "metadata": {},
   "outputs": [
    {
     "data": {
      "text/html": [
       "<div>\n",
       "<style scoped>\n",
       "    .dataframe tbody tr th:only-of-type {\n",
       "        vertical-align: middle;\n",
       "    }\n",
       "\n",
       "    .dataframe tbody tr th {\n",
       "        vertical-align: top;\n",
       "    }\n",
       "\n",
       "    .dataframe thead th {\n",
       "        text-align: right;\n",
       "    }\n",
       "</style>\n",
       "<table border=\"1\" class=\"dataframe\">\n",
       "  <thead>\n",
       "    <tr style=\"text-align: right;\">\n",
       "      <th></th>\n",
       "      <th>url</th>\n",
       "      <th>host_type</th>\n",
       "      <th>author_count</th>\n",
       "      <th>major_releases</th>\n",
       "      <th>end_date</th>\n",
       "      <th>start_date</th>\n",
       "      <th>rev_count</th>\n",
       "      <th>censored</th>\n",
       "      <th>project</th>\n",
       "      <th>duration_days</th>\n",
       "      <th>duration_months</th>\n",
       "      <th>rev_freq</th>\n",
       "      <th>high_rev_freq</th>\n",
       "      <th>multi_repo</th>\n",
       "      <th>high_author_count</th>\n",
       "    </tr>\n",
       "  </thead>\n",
       "  <tbody>\n",
       "    <tr>\n",
       "      <th>0</th>\n",
       "      <td>deb://Debian/packages/accerciser</td>\n",
       "      <td>deb</td>\n",
       "      <td>4</td>\n",
       "      <td>False</td>\n",
       "      <td>2017-12-13 13:26:58+00:00</td>\n",
       "      <td>2012-04-18 17:06:21+00:00</td>\n",
       "      <td>1192</td>\n",
       "      <td>False</td>\n",
       "      <td>accerciser</td>\n",
       "      <td>2065</td>\n",
       "      <td>73</td>\n",
       "      <td>0.577240</td>\n",
       "      <td>False</td>\n",
       "      <td>False</td>\n",
       "      <td>False</td>\n",
       "    </tr>\n",
       "    <tr>\n",
       "      <th>1</th>\n",
       "      <td>deb://Debian/packages/agtl</td>\n",
       "      <td>deb</td>\n",
       "      <td>2</td>\n",
       "      <td>False</td>\n",
       "      <td>2015-08-19 20:36:54+00:00</td>\n",
       "      <td>2011-01-22 12:55:12+00:00</td>\n",
       "      <td>1147</td>\n",
       "      <td>False</td>\n",
       "      <td>agtl</td>\n",
       "      <td>1671</td>\n",
       "      <td>59</td>\n",
       "      <td>0.686415</td>\n",
       "      <td>False</td>\n",
       "      <td>False</td>\n",
       "      <td>False</td>\n",
       "    </tr>\n",
       "    <tr>\n",
       "      <th>2</th>\n",
       "      <td>deb://Debian/packages/ajaxterm</td>\n",
       "      <td>deb</td>\n",
       "      <td>2</td>\n",
       "      <td>False</td>\n",
       "      <td>2015-05-31 17:43:09+00:00</td>\n",
       "      <td>2011-08-19 14:31:06+00:00</td>\n",
       "      <td>1248</td>\n",
       "      <td>False</td>\n",
       "      <td>ajaxterm</td>\n",
       "      <td>1382</td>\n",
       "      <td>49</td>\n",
       "      <td>0.903039</td>\n",
       "      <td>False</td>\n",
       "      <td>False</td>\n",
       "      <td>False</td>\n",
       "    </tr>\n",
       "    <tr>\n",
       "      <th>3</th>\n",
       "      <td>deb://Debian/packages/alacarte</td>\n",
       "      <td>deb</td>\n",
       "      <td>3</td>\n",
       "      <td>False</td>\n",
       "      <td>2017-12-19 02:44:02+00:00</td>\n",
       "      <td>2012-06-29 10:43:50+00:00</td>\n",
       "      <td>1242</td>\n",
       "      <td>False</td>\n",
       "      <td>alacarte</td>\n",
       "      <td>1999</td>\n",
       "      <td>71</td>\n",
       "      <td>0.621311</td>\n",
       "      <td>False</td>\n",
       "      <td>False</td>\n",
       "      <td>False</td>\n",
       "    </tr>\n",
       "    <tr>\n",
       "      <th>4</th>\n",
       "      <td>deb://Debian/packages/angrydd</td>\n",
       "      <td>deb</td>\n",
       "      <td>3</td>\n",
       "      <td>False</td>\n",
       "      <td>2016-04-24 19:35:20+00:00</td>\n",
       "      <td>2008-10-19 12:19:40+00:00</td>\n",
       "      <td>1254</td>\n",
       "      <td>False</td>\n",
       "      <td>angrydd</td>\n",
       "      <td>2745</td>\n",
       "      <td>98</td>\n",
       "      <td>0.456831</td>\n",
       "      <td>False</td>\n",
       "      <td>False</td>\n",
       "      <td>False</td>\n",
       "    </tr>\n",
       "    <tr>\n",
       "      <th>...</th>\n",
       "      <td>...</td>\n",
       "      <td>...</td>\n",
       "      <td>...</td>\n",
       "      <td>...</td>\n",
       "      <td>...</td>\n",
       "      <td>...</td>\n",
       "      <td>...</td>\n",
       "      <td>...</td>\n",
       "      <td>...</td>\n",
       "      <td>...</td>\n",
       "      <td>...</td>\n",
       "      <td>...</td>\n",
       "      <td>...</td>\n",
       "      <td>...</td>\n",
       "      <td>...</td>\n",
       "    </tr>\n",
       "    <tr>\n",
       "      <th>2061</th>\n",
       "      <td>https://pypi.org/project/youtube_dl/</td>\n",
       "      <td>pypi</td>\n",
       "      <td>2</td>\n",
       "      <td>False</td>\n",
       "      <td>2017-12-30 21:32:44+00:00</td>\n",
       "      <td>2013-01-20 00:34:50+00:00</td>\n",
       "      <td>794</td>\n",
       "      <td>True</td>\n",
       "      <td>youtube_dl</td>\n",
       "      <td>1806</td>\n",
       "      <td>64</td>\n",
       "      <td>0.439646</td>\n",
       "      <td>False</td>\n",
       "      <td>False</td>\n",
       "      <td>False</td>\n",
       "    </tr>\n",
       "    <tr>\n",
       "      <th>2062</th>\n",
       "      <td>https://pypi.org/project/zc.lockfile/</td>\n",
       "      <td>pypi</td>\n",
       "      <td>2</td>\n",
       "      <td>False</td>\n",
       "      <td>2016-06-19 16:27:26+00:00</td>\n",
       "      <td>2007-07-18 11:27:21+00:00</td>\n",
       "      <td>7</td>\n",
       "      <td>True</td>\n",
       "      <td>zc.lockfile</td>\n",
       "      <td>3260</td>\n",
       "      <td>116</td>\n",
       "      <td>0.002147</td>\n",
       "      <td>False</td>\n",
       "      <td>False</td>\n",
       "      <td>False</td>\n",
       "    </tr>\n",
       "    <tr>\n",
       "      <th>2063</th>\n",
       "      <td>https://pypi.org/project/zope.component/</td>\n",
       "      <td>pypi</td>\n",
       "      <td>3</td>\n",
       "      <td>False</td>\n",
       "      <td>2017-09-26 11:17:58+00:00</td>\n",
       "      <td>2007-02-19 14:16:09+00:00</td>\n",
       "      <td>31</td>\n",
       "      <td>False</td>\n",
       "      <td>zope.component</td>\n",
       "      <td>3872</td>\n",
       "      <td>138</td>\n",
       "      <td>0.008006</td>\n",
       "      <td>False</td>\n",
       "      <td>False</td>\n",
       "      <td>False</td>\n",
       "    </tr>\n",
       "    <tr>\n",
       "      <th>2064</th>\n",
       "      <td>https://pypi.org/project/zope.deprecation/</td>\n",
       "      <td>pypi</td>\n",
       "      <td>2</td>\n",
       "      <td>False</td>\n",
       "      <td>2017-08-07 19:24:01+00:00</td>\n",
       "      <td>2007-02-18 21:55:54+00:00</td>\n",
       "      <td>13</td>\n",
       "      <td>False</td>\n",
       "      <td>zope.deprecation</td>\n",
       "      <td>3823</td>\n",
       "      <td>136</td>\n",
       "      <td>0.003400</td>\n",
       "      <td>False</td>\n",
       "      <td>False</td>\n",
       "      <td>False</td>\n",
       "    </tr>\n",
       "    <tr>\n",
       "      <th>2065</th>\n",
       "      <td>https://pypi.org/project/zope.interface/</td>\n",
       "      <td>pypi</td>\n",
       "      <td>3</td>\n",
       "      <td>False</td>\n",
       "      <td>2017-09-22 07:46:20+00:00</td>\n",
       "      <td>2007-01-03 16:19:54+00:00</td>\n",
       "      <td>41</td>\n",
       "      <td>True</td>\n",
       "      <td>zope.interface</td>\n",
       "      <td>3915</td>\n",
       "      <td>139</td>\n",
       "      <td>0.010473</td>\n",
       "      <td>False</td>\n",
       "      <td>False</td>\n",
       "      <td>False</td>\n",
       "    </tr>\n",
       "  </tbody>\n",
       "</table>\n",
       "<p>2066 rows × 15 columns</p>\n",
       "</div>"
      ],
      "text/plain": [
       "                                             url host_type  author_count  \\\n",
       "0               deb://Debian/packages/accerciser       deb             4   \n",
       "1                     deb://Debian/packages/agtl       deb             2   \n",
       "2                 deb://Debian/packages/ajaxterm       deb             2   \n",
       "3                 deb://Debian/packages/alacarte       deb             3   \n",
       "4                  deb://Debian/packages/angrydd       deb             3   \n",
       "...                                          ...       ...           ...   \n",
       "2061        https://pypi.org/project/youtube_dl/      pypi             2   \n",
       "2062       https://pypi.org/project/zc.lockfile/      pypi             2   \n",
       "2063    https://pypi.org/project/zope.component/      pypi             3   \n",
       "2064  https://pypi.org/project/zope.deprecation/      pypi             2   \n",
       "2065    https://pypi.org/project/zope.interface/      pypi             3   \n",
       "\n",
       "      major_releases                   end_date                 start_date  \\\n",
       "0              False  2017-12-13 13:26:58+00:00  2012-04-18 17:06:21+00:00   \n",
       "1              False  2015-08-19 20:36:54+00:00  2011-01-22 12:55:12+00:00   \n",
       "2              False  2015-05-31 17:43:09+00:00  2011-08-19 14:31:06+00:00   \n",
       "3              False  2017-12-19 02:44:02+00:00  2012-06-29 10:43:50+00:00   \n",
       "4              False  2016-04-24 19:35:20+00:00  2008-10-19 12:19:40+00:00   \n",
       "...              ...                        ...                        ...   \n",
       "2061           False  2017-12-30 21:32:44+00:00  2013-01-20 00:34:50+00:00   \n",
       "2062           False  2016-06-19 16:27:26+00:00  2007-07-18 11:27:21+00:00   \n",
       "2063           False  2017-09-26 11:17:58+00:00  2007-02-19 14:16:09+00:00   \n",
       "2064           False  2017-08-07 19:24:01+00:00  2007-02-18 21:55:54+00:00   \n",
       "2065           False  2017-09-22 07:46:20+00:00  2007-01-03 16:19:54+00:00   \n",
       "\n",
       "      rev_count  censored           project  duration_days  duration_months  \\\n",
       "0          1192     False        accerciser           2065               73   \n",
       "1          1147     False              agtl           1671               59   \n",
       "2          1248     False          ajaxterm           1382               49   \n",
       "3          1242     False          alacarte           1999               71   \n",
       "4          1254     False           angrydd           2745               98   \n",
       "...         ...       ...               ...            ...              ...   \n",
       "2061        794      True        youtube_dl           1806               64   \n",
       "2062          7      True       zc.lockfile           3260              116   \n",
       "2063         31     False    zope.component           3872              138   \n",
       "2064         13     False  zope.deprecation           3823              136   \n",
       "2065         41      True    zope.interface           3915              139   \n",
       "\n",
       "      rev_freq  high_rev_freq  multi_repo  high_author_count  \n",
       "0     0.577240          False       False              False  \n",
       "1     0.686415          False       False              False  \n",
       "2     0.903039          False       False              False  \n",
       "3     0.621311          False       False              False  \n",
       "4     0.456831          False       False              False  \n",
       "...        ...            ...         ...                ...  \n",
       "2061  0.439646          False       False              False  \n",
       "2062  0.002147          False       False              False  \n",
       "2063  0.008006          False       False              False  \n",
       "2064  0.003400          False       False              False  \n",
       "2065  0.010473          False       False              False  \n",
       "\n",
       "[2066 rows x 15 columns]"
      ]
     },
     "execution_count": 3,
     "metadata": {},
     "output_type": "execute_result"
    }
   ],
   "source": [
    "data = pd.read_csv('data/all_fields.csv')"
   ]
  },
  {
   "cell_type": "code",
   "execution_count": 5,
   "metadata": {},
   "outputs": [
    {
     "data": {
      "text/plain": [
       "True     1291\n",
       "False     775\n",
       "Name: censored, dtype: int64"
      ]
     },
     "execution_count": 5,
     "metadata": {},
     "output_type": "execute_result"
    }
   ],
   "source": [
    "# True = Active, False = Inactive\n",
    "data['censored'].value_counts()"
   ]
  },
  {
   "cell_type": "code",
   "execution_count": 11,
   "metadata": {},
   "outputs": [
    {
     "data": {
      "text/plain": [
       "46.589545014520816"
      ]
     },
     "execution_count": 11,
     "metadata": {},
     "output_type": "execute_result"
    }
   ],
   "source": [
    "data['duration_months'].mean()"
   ]
  },
  {
   "cell_type": "code",
   "execution_count": 7,
   "metadata": {},
   "outputs": [
    {
     "data": {
      "text/plain": [
       "deb     964\n",
       "git     739\n",
       "pypi    363\n",
       "Name: host_type, dtype: int64"
      ]
     },
     "execution_count": 7,
     "metadata": {},
     "output_type": "execute_result"
    }
   ],
   "source": [
    "data['host_type'].value_counts()"
   ]
  },
  {
   "cell_type": "code",
   "execution_count": 8,
   "metadata": {},
   "outputs": [
    {
     "data": {
      "text/plain": [
       "False    1955\n",
       "True      111\n",
       "Name: multi_repo, dtype: int64"
      ]
     },
     "execution_count": 8,
     "metadata": {},
     "output_type": "execute_result"
    }
   ],
   "source": [
    "data['multi_repo'].value_counts()"
   ]
  },
  {
   "cell_type": "code",
   "execution_count": 9,
   "metadata": {},
   "outputs": [
    {
     "data": {
      "text/plain": [
       "False    1840\n",
       "True      226\n",
       "Name: major_releases, dtype: int64"
      ]
     },
     "execution_count": 9,
     "metadata": {},
     "output_type": "execute_result"
    }
   ],
   "source": [
    "data['major_releases'].value_counts()"
   ]
  },
  {
   "cell_type": "code",
   "execution_count": 12,
   "metadata": {},
   "outputs": [
    {
     "data": {
      "text/plain": [
       "(46.51645692158761,\n",
       " False    1551\n",
       " True      515\n",
       " Name: high_author_count, dtype: int64)"
      ]
     },
     "execution_count": 12,
     "metadata": {},
     "output_type": "execute_result"
    }
   ],
   "source": [
    "data['author_count'].mean(), data['high_author_count'].value_counts()"
   ]
  },
  {
   "cell_type": "code",
   "execution_count": 13,
   "metadata": {},
   "outputs": [
    {
     "data": {
      "text/plain": [
       "False    1424\n",
       "True      642\n",
       "Name: high_rev_freq, dtype: int64"
      ]
     },
     "execution_count": 13,
     "metadata": {},
     "output_type": "execute_result"
    }
   ],
   "source": [
    "data['high_rev_freq'].value_counts()"
   ]
  }
 ],
 "metadata": {
  "interpreter": {
   "hash": "31f2aee4e71d21fbe5cf8b01ff0e069b9275f58929596ceb00d14d90e3e16cd6"
  },
  "kernelspec": {
   "display_name": "Python 3.8.2 64-bit",
   "language": "python",
   "name": "python3"
  },
  "language_info": {
   "codemirror_mode": {
    "name": "ipython",
    "version": 3
   },
   "file_extension": ".py",
   "mimetype": "text/x-python",
   "name": "python",
   "nbconvert_exporter": "python",
   "pygments_lexer": "ipython3",
   "version": "3.8.10"
  },
  "orig_nbformat": 4
 },
 "nbformat": 4,
 "nbformat_minor": 2
}
