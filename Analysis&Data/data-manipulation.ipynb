{
 "cells": [
  {
   "cell_type": "code",
   "execution_count": 1,
   "metadata": {},
   "outputs": [],
   "source": [
    "import pandas as pd\n",
    "import numpy as np\n",
    "import matplotlib.pyplot as plt"
   ]
  },
  {
   "cell_type": "code",
   "execution_count": 2,
   "metadata": {},
   "outputs": [],
   "source": [
    "# Read in data from sql_queries\n",
    "data = pd.read_csv(\"data/sql_data.csv\")"
   ]
  },
  {
   "cell_type": "markdown",
   "metadata": {},
   "source": [
    "## Extract Project Names from URLs"
   ]
  },
  {
   "cell_type": "code",
   "execution_count": 3,
   "metadata": {},
   "outputs": [],
   "source": [
    "# This makes assumptions about url structure and project naming\n",
    "projects = []\n",
    "for elem in data['url'].str.findall(\"(.+)/(.+)(/*$)\"):\n",
    "    projects.append(elem[0][1].replace(\"/\",\"\"))\n",
    "data['project'] = projects\n"
   ]
  },
  {
   "cell_type": "markdown",
   "metadata": {},
   "source": [
    "## Calculate the Duration in Days and Months (28 days) for each Project"
   ]
  },
  {
   "cell_type": "code",
   "execution_count": 4,
   "metadata": {},
   "outputs": [],
   "source": [
    "data['end_date']= pd.to_datetime(data['end_date'], utc=True)\n",
    "data['start_date']= pd.to_datetime(data['start_date'], utc=True)"
   ]
  },
  {
   "cell_type": "code",
   "execution_count": 5,
   "metadata": {},
   "outputs": [],
   "source": [
    "# The + 1 represents rounding up to the next day (there are cases where min and max date are equal)\n",
    "data['duration_days'] = ((data['end_date'] - data['start_date'])/np.timedelta64(1,'D') + 1).astype(int)\n",
    "# define month as 28 days\n",
    "data['duration_months'] = (data['duration_days']/28).astype(int)\n"
   ]
  },
  {
   "cell_type": "markdown",
   "metadata": {},
   "source": [
    "## Create Revision Frequency Columns"
   ]
  },
  {
   "cell_type": "code",
   "execution_count": 6,
   "metadata": {},
   "outputs": [
    {
     "data": {
      "text/plain": [
       "False    1424\n",
       "True      642\n",
       "Name: high_rev_freq, dtype: int64"
      ]
     },
     "execution_count": 6,
     "metadata": {},
     "output_type": "execute_result"
    }
   ],
   "source": [
    "# Create Revision Frequency\n",
    "data['rev_freq'] = data['rev_count'] / data['duration_days']\n",
    "# Create column for high frequency vs low frequency\n",
    "data['high_rev_freq'] = data['rev_freq'] > 1\n",
    "\n",
    "data['high_rev_freq'].value_counts()"
   ]
  },
  {
   "cell_type": "markdown",
   "metadata": {},
   "source": [
    "## Determine Whether Projects are Hosted on Multiple Repositories"
   ]
  },
  {
   "cell_type": "code",
   "execution_count": 7,
   "metadata": {},
   "outputs": [
    {
     "data": {
      "text/plain": [
       "['Python', 'algorithms', 'dataset', 'models', 'seq2seq', 'sshuttle', 'tqdm']"
      ]
     },
     "execution_count": 7,
     "metadata": {},
     "output_type": "execute_result"
    }
   ],
   "source": [
    "# These are mistakes, the project and host_type should uniquely identify the repos, but git projects\n",
    "# can have duplicated names, so these projects are not actually hosted on multiple repos\n",
    "temp = data.groupby(['project', 'host_type']).count()['censored']\n",
    "non_multi_repo_projects = [x for (x,y) in temp[temp > 1].index]\n",
    "non_multi_repo_projects\n"
   ]
  },
  {
   "cell_type": "code",
   "execution_count": 8,
   "metadata": {},
   "outputs": [
    {
     "data": {
      "text/plain": [
       "False    1955\n",
       "True      111\n",
       "Name: multi_repo, dtype: int64"
      ]
     },
     "execution_count": 8,
     "metadata": {},
     "output_type": "execute_result"
    }
   ],
   "source": [
    "temp = data.groupby(['project']).count()['censored']\n",
    "temp[temp == 1] = 0\n",
    "temp[temp > 1] = 1\n",
    "# fix errors\n",
    "temp[non_multi_repo_projects] = 0\n",
    "\n",
    "multi_repo = []\n",
    "for i, row in data.iterrows():\n",
    "    multi_repo.append(temp[row['project']])\n",
    "\n",
    "data['multi_repo'] = multi_repo\n",
    "data['multi_repo'] = data['multi_repo'].astype(bool)\n",
    "data['multi_repo'].value_counts()"
   ]
  },
  {
   "cell_type": "markdown",
   "metadata": {},
   "source": [
    "## High Author Count"
   ]
  },
  {
   "cell_type": "code",
   "execution_count": 9,
   "metadata": {},
   "outputs": [
    {
     "data": {
      "text/plain": [
       "False    1551\n",
       "True      515\n",
       "Name: high_author_count, dtype: int64"
      ]
     },
     "execution_count": 9,
     "metadata": {},
     "output_type": "execute_result"
    }
   ],
   "source": [
    "data['high_author_count'] = data['author_count'] > 20\n",
    "data['high_author_count'].value_counts()"
   ]
  },
  {
   "cell_type": "markdown",
   "metadata": {},
   "source": [
    "## Save to CSVs"
   ]
  },
  {
   "cell_type": "code",
   "execution_count": 10,
   "metadata": {},
   "outputs": [],
   "source": [
    "data.to_csv(\"data/all_fields.csv\", index=False)"
   ]
  },
  {
   "cell_type": "code",
   "execution_count": 11,
   "metadata": {},
   "outputs": [],
   "source": [
    "refined = data.drop(['url', 'author_count', 'start_date', 'end_date', 'rev_count', 'project', 'duration_days', 'rev_freq'], axis='columns')\n",
    "refined.to_csv('data/necessary_fields.csv', index=False)"
   ]
  },
  {
   "cell_type": "markdown",
   "metadata": {},
   "source": [
    "# Create Figure 1 (Ordered Timeline of Projects)"
   ]
  },
  {
   "cell_type": "code",
   "execution_count": 14,
   "metadata": {},
   "outputs": [],
   "source": [
    "beginning_month = pd.to_datetime('2005-05-09 00:00:00-07:00', utc=True)\n",
    "ending_month = pd.to_datetime('2018-01-01 00:00:00-07:00', utc=True)\n",
    "\n",
    "graph_data = data.copy()\n",
    "graph_data['start_month'] = (((data['start_date'] - beginning_month)/np.timedelta64(1,'D') + 1)/28).astype(int)\n",
    "graph_data['end_month'] = (((data['end_date'] - beginning_month)/np.timedelta64(1,'D') + 1)/28).astype(int)\n",
    "graph_data = graph_data.sort_values(by=['duration_months'])"
   ]
  },
  {
   "cell_type": "code",
   "execution_count": 15,
   "metadata": {},
   "outputs": [
    {
     "data": {
      "image/png": "[encoded data removed]",
      "text/plain": [
       "<Figure size 576x720 with 1 Axes>"
      ]
     },
     "metadata": {
      "needs_background": "light"
     },
     "output_type": "display_data"
    }
   ],
   "source": [
    "plt.rcParams[\"figure.figsize\"]=[8,10]\n",
    "plt.hlines(y=np.arange(graph_data.shape[0]), xmin=graph_data['start_month'], xmax=graph_data['end_month'], colors='black', linewidth=0.5)\n",
    "plt.tick_params(left=False, labelleft=False)\n",
    "plt.ylabel('Repository')\n",
    "plt.xlabel('Month')\n",
    "plt.xlim((0, int((((ending_month - beginning_month)/np.timedelta64(1,'D'))/28))))\n",
    "plt.ylim((0, graph_data.shape[0]))\n",
    "plt.savefig('img/figure1.jpg',bbox_inches='tight', dpi=150)"
   ]
  }
 ],
 "metadata": {
  "interpreter": {
   "hash": "e36037f63a187e1cbdbbdbba65cb8e02f1206170ccfbe96ceb37b0f563e0b6ff"
  },
  "kernelspec": {
   "display_name": "Python 3.7.10 64-bit ('base': conda)",
   "name": "python3"
  },
  "language_info": {
   "codemirror_mode": {
    "name": "ipython",
    "version": 3
   },
   "file_extension": ".py",
   "mimetype": "text/x-python",
   "name": "python",
   "nbconvert_exporter": "python",
   "pygments_lexer": "ipython3",
   "version": "3.8.10"
  },
  "orig_nbformat": 4
 },
 "nbformat": 4,
 "nbformat_minor": 2
}
